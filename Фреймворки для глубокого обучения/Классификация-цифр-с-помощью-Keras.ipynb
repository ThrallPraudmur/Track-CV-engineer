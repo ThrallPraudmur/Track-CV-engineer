{
 "cells": [
  {
   "cell_type": "markdown",
   "metadata": {
    "id": "frHiDRbv-JnK"
   },
   "source": [
    "Для воспроизводимости кода установим определенную версию tensorflow и keras"
   ]
  },
  {
   "cell_type": "code",
   "execution_count": 1,
   "metadata": {
    "colab": {
     "base_uri": "https://localhost:8080/"
    },
    "id": "sfrrvxH_-Gdg",
    "outputId": "84085ce5-11c6-4f0c-da1c-6ae3f52e5d86"
   },
   "outputs": [
    {
     "name": "stdout",
     "output_type": "stream",
     "text": [
      "\u001b[2K     \u001b[90m━━━━━━━━━━━━━━━━━━━━━━━━━━━━━━━━━━━━━━━\u001b[0m \u001b[32m588.3/588.3 MB\u001b[0m \u001b[31m2.1 MB/s\u001b[0m eta \u001b[36m0:00:00\u001b[0m\n",
      "\u001b[2K     \u001b[90m━━━━━━━━━━━━━━━━━━━━━━━━━━━━━━━━━━━━━━━━\u001b[0m \u001b[32m1.7/1.7 MB\u001b[0m \u001b[31m43.8 MB/s\u001b[0m eta \u001b[36m0:00:00\u001b[0m\n",
      "\u001b[2K     \u001b[90m━━━━━━━━━━━━━━━━━━━━━━━━━━━━━━━━━━━━━━━━\u001b[0m \u001b[32m1.1/1.1 MB\u001b[0m \u001b[31m38.3 MB/s\u001b[0m eta \u001b[36m0:00:00\u001b[0m\n",
      "\u001b[2K     \u001b[90m━━━━━━━━━━━━━━━━━━━━━━━━━━━━━━━━━━━━━━━━\u001b[0m \u001b[32m6.0/6.0 MB\u001b[0m \u001b[31m66.6 MB/s\u001b[0m eta \u001b[36m0:00:00\u001b[0m\n",
      "\u001b[2K     \u001b[90m━━━━━━━━━━━━━━━━━━━━━━━━━━━━━━━━━━━━━━\u001b[0m \u001b[32m439.2/439.2 kB\u001b[0m \u001b[31m34.3 MB/s\u001b[0m eta \u001b[36m0:00:00\u001b[0m\n",
      "\u001b[2K     \u001b[90m━━━━━━━━━━━━━━━━━━━━━━━━━━━━━━━━━━━━━━━━\u001b[0m \u001b[32m4.9/4.9 MB\u001b[0m \u001b[31m24.9 MB/s\u001b[0m eta \u001b[36m0:00:00\u001b[0m\n",
      "\u001b[2K     \u001b[90m━━━━━━━━━━━━━━━━━━━━━━━━━━━━━━━━━━━━━━\u001b[0m \u001b[32m781.3/781.3 kB\u001b[0m \u001b[31m44.2 MB/s\u001b[0m eta \u001b[36m0:00:00\u001b[0m\n",
      "\u001b[?25h\u001b[31mERROR: pip's dependency resolver does not currently take into account all the packages that are installed. This behaviour is the source of the following dependency conflicts.\n",
      "tensorflow-datasets 4.9.2 requires protobuf>=3.20, but you have protobuf 3.19.6 which is incompatible.\n",
      "tensorflow-metadata 1.13.1 requires protobuf<5,>=3.20.3, but you have protobuf 3.19.6 which is incompatible.\u001b[0m\u001b[31m\n",
      "\u001b[0m"
     ]
    }
   ],
   "source": [
    "!pip install -q tensorflow==2.11"
   ]
  },
  {
   "cell_type": "code",
   "execution_count": 2,
   "metadata": {
    "id": "NPDfQS-kNO1v"
   },
   "outputs": [],
   "source": [
    "import tensorflow as tf\n",
    "from tensorflow import keras\n",
    "from tensorflow.keras.layers import Dense\n",
    "from tensorflow.keras.models import Sequential\n",
    "from tensorflow.keras.backend import clear_session\n",
    "import numpy as np\n",
    "import pandas as pd\n",
    "import sklearn\n",
    "from sklearn.metrics import accuracy_score\n",
    "import matplotlib.pyplot as plt"
   ]
  },
  {
   "cell_type": "code",
   "execution_count": 3,
   "metadata": {
    "colab": {
     "base_uri": "https://localhost:8080/"
    },
    "id": "B4QHV0JB9r9D",
    "outputId": "d4c98c32-7ed4-413f-dfbc-4e6274b607e8"
   },
   "outputs": [
    {
     "name": "stdout",
     "output_type": "stream",
     "text": [
      "We're using TF 2.11.0\n",
      "We are using Keras 2.11.0\n"
     ]
    }
   ],
   "source": [
    "print(\"We're using TF\", tf.__version__)\n",
    "print(\"We are using Keras\", keras.__version__)"
   ]
  },
  {
   "cell_type": "code",
   "execution_count": 4,
   "metadata": {
    "colab": {
     "base_uri": "https://localhost:8080/",
     "height": 35
    },
    "id": "Xfoji_vbLUiA",
    "outputId": "7d66a76b-480e-4163-94ac-f1d5026e2b9d"
   },
   "outputs": [
    {
     "data": {
      "application/vnd.google.colaboratory.intrinsic+json": {
       "type": "string"
      },
      "text/plain": [
       "'/device:GPU:0'"
      ]
     },
     "execution_count": 4,
     "metadata": {},
     "output_type": "execute_result"
    }
   ],
   "source": [
    "# Проверяем что у нас работает GPU\n",
    "tf.test.gpu_device_name() #ДОСТУПНА НА ПОРТУ 0"
   ]
  },
  {
   "cell_type": "code",
   "execution_count": 5,
   "metadata": {
    "colab": {
     "base_uri": "https://localhost:8080/"
    },
    "id": "5oglA59FL0wA",
    "outputId": "ae697da8-54cc-4925-ff03-eaa9fbc2d19d"
   },
   "outputs": [
    {
     "name": "stdout",
     "output_type": "stream",
     "text": [
      "GPU 0: Tesla T4 (UUID: GPU-7f3c2fb5-1119-59c0-2da5-3423aa685e9e)\n"
     ]
    }
   ],
   "source": [
    "#GPU count and name\n",
    "!nvidia-smi -L"
   ]
  },
  {
   "cell_type": "code",
   "execution_count": 6,
   "metadata": {
    "colab": {
     "base_uri": "https://localhost:8080/"
    },
    "id": "rYt8uY3aOaFT",
    "outputId": "fa7bd78d-88ce-4c58-ce44-2054a5ffc399"
   },
   "outputs": [
    {
     "name": "stdout",
     "output_type": "stream",
     "text": [
      "Wed Jul 26 07:33:11 2023       \n",
      "+-----------------------------------------------------------------------------+\n",
      "| NVIDIA-SMI 525.105.17   Driver Version: 525.105.17   CUDA Version: 12.0     |\n",
      "|-------------------------------+----------------------+----------------------+\n",
      "| GPU  Name        Persistence-M| Bus-Id        Disp.A | Volatile Uncorr. ECC |\n",
      "| Fan  Temp  Perf  Pwr:Usage/Cap|         Memory-Usage | GPU-Util  Compute M. |\n",
      "|                               |                      |               MIG M. |\n",
      "|===============================+======================+======================|\n",
      "|   0  Tesla T4            Off  | 00000000:00:04.0 Off |                    0 |\n",
      "| N/A   78C    P0    35W /  70W |    353MiB / 15360MiB |      0%      Default |\n",
      "|                               |                      |                  N/A |\n",
      "+-------------------------------+----------------------+----------------------+\n",
      "                                                                               \n",
      "+-----------------------------------------------------------------------------+\n",
      "| Processes:                                                                  |\n",
      "|  GPU   GI   CI        PID   Type   Process name                  GPU Memory |\n",
      "|        ID   ID                                                   Usage      |\n",
      "|=============================================================================|\n",
      "+-----------------------------------------------------------------------------+\n"
     ]
    }
   ],
   "source": [
    "#use this command to see GPU activity while doing Deep Learning tasks, for this command 'nvidia-smi' and for above one to work, go to 'Runtime > change runtime type > Hardware Accelerator > GPU'\n",
    "!nvidia-smi"
   ]
  },
  {
   "cell_type": "markdown",
   "metadata": {
    "id": "aM4jVTyFDFqx"
   },
   "source": [
    "# MNIST"
   ]
  },
  {
   "cell_type": "code",
   "execution_count": 7,
   "metadata": {
    "colab": {
     "base_uri": "https://localhost:8080/"
    },
    "id": "5ynJ91PONjLN",
    "outputId": "361a50c4-3334-4ca4-8bdd-74ecd78ee1d1"
   },
   "outputs": [
    {
     "name": "stdout",
     "output_type": "stream",
     "text": [
      "Downloading data from https://storage.googleapis.com/tensorflow/tf-keras-datasets/mnist.npz\n",
      "11490434/11490434 [==============================] - 1s 0us/step\n"
     ]
    }
   ],
   "source": [
    "# скачиваем данные\n",
    "(x_train, y_train), (x_val, y_val) = tf.keras.datasets.mnist.load_data()"
   ]
  },
  {
   "cell_type": "code",
   "execution_count": 8,
   "metadata": {
    "colab": {
     "base_uri": "https://localhost:8080/"
    },
    "id": "gFOePELMN8KM",
    "outputId": "0cd48959-b6fa-4e06-aeee-fabee7235a95"
   },
   "outputs": [
    {
     "name": "stdout",
     "output_type": "stream",
     "text": [
      "(60000, 28, 28)\n",
      "(10000, 28, 28)\n",
      "[5 0 4 1 9 2 1 3 1 4]\n",
      "[7 2 1 0 4 1 4 9 5 9]\n"
     ]
    }
   ],
   "source": [
    "# что за данные\n",
    "print(x_train.shape)\n",
    "print(x_val.shape)\n",
    "print (y_train[:10])\n",
    "print (y_val[:10])"
   ]
  },
  {
   "cell_type": "code",
   "execution_count": 9,
   "metadata": {
    "colab": {
     "base_uri": "https://localhost:8080/",
     "height": 912
    },
    "id": "S_1_CbatN_Kt",
    "outputId": "c8c56f26-7800-400a-9754-1731d07acdd1"
   },
   "outputs": [
    {
     "name": "stdout",
     "output_type": "stream",
     "text": [
      "Пример кусочка картинки (пиксели со значениями от 0 до 255):\n"
     ]
    },
    {
     "data": {
      "image/png": "[encoded data removed]",
      "text/plain": [
       "<Figure size 640x480 with 1 Axes>"
      ]
     },
     "metadata": {},
     "output_type": "display_data"
    },
    {
     "name": "stdout",
     "output_type": "stream",
     "text": [
      "Пример картинки:\n"
     ]
    },
    {
     "data": {
      "image/png": "[encoded data removed]",
      "text/plain": [
       "<Figure size 640x480 with 1 Axes>"
      ]
     },
     "metadata": {},
     "output_type": "display_data"
    },
    {
     "name": "stdout",
     "output_type": "stream",
     "text": [
      "y_train [shape (60000,)] 10 примеров:\n",
      " [5 0 4 1 9 2 1 3 1 4]\n"
     ]
    }
   ],
   "source": [
    "# нарисуем картинку\n",
    "x_train_image = np.tile(x_train[5, :, :].reshape((28, 28))[:, :, np.newaxis], (1, 1, 3))\n",
    "print(\"Пример кусочка картинки (пиксели со значениями от 0 до 255):\")\n",
    "plt.imshow(x_train_image[15:20, 5:10], cmap=\"Greys\")\n",
    "plt.show()\n",
    "print(\"Пример картинки:\")\n",
    "plt.imshow(x_train_image, cmap=\"Greys\")\n",
    "plt.show()\n",
    "print(\"y_train [shape %s] 10 примеров:\\n\" % (str(y_train.shape)), y_train[:10])"
   ]
  },
  {
   "cell_type": "code",
   "execution_count": 10,
   "metadata": {
    "colab": {
     "base_uri": "https://localhost:8080/",
     "height": 826
    },
    "id": "N8lbRW0WBPvh",
    "outputId": "9cf90511-638b-47d2-a3a0-ff8da2222983"
   },
   "outputs": [
    {
     "data": {
      "image/png": "[encoded data removed]",
      "text/plain": [
       "<Figure size 1000x1000 with 25 Axes>"
      ]
     },
     "metadata": {},
     "output_type": "display_data"
    }
   ],
   "source": [
    "# Посмотрим побольше примеров\n",
    "plt.figure(figsize=(10,10))\n",
    "for i in range(25):\n",
    "    plt.subplot(5,5,i+1)\n",
    "    plt.xticks([])\n",
    "    plt.yticks([])\n",
    "    plt.grid(False)\n",
    "    plt.imshow(x_train[i], cmap=\"Greys\")\n",
    "    plt.xlabel(y_train[i])\n",
    "plt.show()"
   ]
  },
  {
   "cell_type": "markdown",
   "metadata": {
    "id": "Zs9l8YcDCn77"
   },
   "source": [
    "# Data"
   ]
  },
  {
   "cell_type": "code",
   "execution_count": 11,
   "metadata": {
    "colab": {
     "base_uri": "https://localhost:8080/"
    },
    "id": "Gy5rjeOE1RGk",
    "outputId": "a122c6da-c431-4459-8ee3-d06d7269a249"
   },
   "outputs": [
    {
     "name": "stdout",
     "output_type": "stream",
     "text": [
      "(60000, 28, 28) (60000, 784)\n",
      "(10000, 28, 28) (10000, 784)\n"
     ]
    }
   ],
   "source": [
    "# вытянем картинку в вектор размера 28*28=784 и будем использовать это как фичи!\n",
    "\n",
    "x_train_flat = x_train.reshape(-1, 28*28).astype(float)\n",
    "print(x_train.shape, x_train_flat.shape)\n",
    "\n",
    "x_val_flat = x_val.reshape(-1, 28*28).astype(float)\n",
    "print(x_val.shape, x_val_flat.shape)"
   ]
  },
  {
   "cell_type": "code",
   "execution_count": 12,
   "metadata": {
    "colab": {
     "base_uri": "https://localhost:8080/"
    },
    "id": "eiiClrqZC1ev",
    "outputId": "e33f5396-d114-4a20-962a-de15f796d3c1"
   },
   "outputs": [
    {
     "name": "stderr",
     "output_type": "stream",
     "text": [
      "<ipython-input-12-dd53c12ce9f9>:2: DeprecationWarning: `np.float` is a deprecated alias for the builtin `float`. To silence this warning, use `float` by itself. Doing this will not modify any behavior and is safe. If you specifically wanted the numpy scalar type, use `np.float64` here.\n",
      "Deprecated in NumPy 1.20; for more details and guidance: https://numpy.org/devdocs/release/1.20.0-notes.html#deprecations\n",
      "  x_train_float = x_train_flat.astype(np.float) / 255 - 0.5\n",
      "<ipython-input-12-dd53c12ce9f9>:3: DeprecationWarning: `np.float` is a deprecated alias for the builtin `float`. To silence this warning, use `float` by itself. Doing this will not modify any behavior and is safe. If you specifically wanted the numpy scalar type, use `np.float64` here.\n",
      "Deprecated in NumPy 1.20; for more details and guidance: https://numpy.org/devdocs/release/1.20.0-notes.html#deprecations\n",
      "  x_val_float = x_val_flat.astype(np.float) / 255 - 0.5\n"
     ]
    }
   ],
   "source": [
    "# центрируем и нормируем, так сети будет проще учиться\n",
    "x_train_float = x_train_flat.astype(np.float) / 255 - 0.5\n",
    "x_val_float = x_val_flat.astype(np.float) / 255 - 0.5\n",
    "\n",
    "# по сути, это действия аналогичны нормализации через StandardScaler\n",
    "# from sklearn.preprocessing import StandardScaler\n",
    "# scaler = StandardScaler()\n",
    "# x_train_flat = scaler.fit_transform(x_train_flat)\n",
    "# x_val_flat = scaler.transform(x_val_flat)\n",
    "\n",
    "# Но попробуйте пропустить нормирование и посмотрите что будет ;)\n",
    "# x_train_float = x_train_flat.astype(np.float)\n",
    "# x_val_float = x_val_flat.astype(np.float)"
   ]
  },
  {
   "cell_type": "code",
   "execution_count": 13,
   "metadata": {
    "colab": {
     "base_uri": "https://localhost:8080/"
    },
    "id": "lLz736fXE1mN",
    "outputId": "5b3b9949-1d28-4a3a-a832-a2412deed1f3"
   },
   "outputs": [
    {
     "name": "stdout",
     "output_type": "stream",
     "text": [
      "(60000, 10)\n",
      "[[0. 0. 0. 0. 0. 1. 0. 0. 0. 0.]\n",
      " [1. 0. 0. 0. 0. 0. 0. 0. 0. 0.]\n",
      " [0. 0. 0. 0. 1. 0. 0. 0. 0. 0.]\n",
      " [0. 1. 0. 0. 0. 0. 0. 0. 0. 0.]\n",
      " [0. 0. 0. 0. 0. 0. 0. 0. 0. 1.]] [5 0 4 1 9]\n"
     ]
    }
   ],
   "source": [
    "# one-hot encode для ответов\n",
    "y_train_oh = keras.utils.to_categorical(y_train, 10)\n",
    "y_val_oh = keras.utils.to_categorical(y_val, 10)\n",
    "\n",
    "print(y_train_oh.shape)\n",
    "print(y_train_oh[:5], y_train[:5])"
   ]
  },
  {
   "cell_type": "markdown",
   "metadata": {
    "id": "n8jUd6IORgQh"
   },
   "source": [
    "# Собираем модель\n",
    "\n",
    "Построим простой Multi layer Perceptron (MLP) классификатор в Keras (по аналогии со знакомым нам уже MLPClassifier из sklearn)\n",
    "\n",
    "<img src=\"https://cdn-images-1.medium.com/max/1600/1*Gh5PS4R_A5drl5ebd_gNrg@2x.png\" width=\"500\">\n"
   ]
  },
  {
   "cell_type": "markdown",
   "metadata": {
    "id": "cSdaCoTkUCxH"
   },
   "source": [
    "Сначала надо будет посчитать логиты (logit, линейное преобразование) $z_k$ для каждого класса: $$z_k = \\vec{x} \\cdot \\vec{w_k} + b_k \\quad k = 0..9$$\n",
    "\n",
    "А затем превратить логиты $z_k$ в вероятности $p_k$ при помощи функции softmax: $$p_k = \\frac{e^{z_k}}{\\sum_{i=0}^{9}{e^{z_i}}} \\quad k = 0..9$$\n",
    "\n",
    "Мы будем использовать cross-entropy для минимизации ошибки: $$\\text{cross-entropy}(y, p) = -\\sum_{k=0}^{9}{\\log(p_k)[y = k]}$$\n",
    "\n",
    "где $$ [x]=\\begin{cases} 1, \\quad \\text{если $x$ истина} \\\\ 0, \\quad \\text{иначе} \\end{cases} $$\n",
    "\n",
    "Минимизация cross-entropy двигает $p_k$ в сторону 1 когда $y = k$, что как раз мы и хотим.\n"
   ]
  },
  {
   "cell_type": "code",
   "execution_count": null,
   "metadata": {
    "id": "EaI0ev6BOI2r"
   },
   "outputs": [],
   "source": [
    "clear_session() #ПОСЛЕ ИЗМЕНЕНИЯ АРХИТЕКТУРЫ НЕОБХОДИМО ОЧИЩАТЬ СЕССИЮ"
   ]
  },
  {
   "cell_type": "code",
   "execution_count": 14,
   "metadata": {
    "id": "yrIcMsFlHp4U"
   },
   "outputs": [],
   "source": [
    "# Архитектура сети\n",
    "model = Sequential()\n",
    "model.add(Dense(256, activation='relu', input_shape=(x_train_float.shape[1],))) # первый скрытый слой (количество нейронов, ф-ция активации, кол-во входящих признаков)\n",
    "model.add(Dense(128, activation='relu',)) # второй скрытый слой (необязательно повторять первый слой, можно добавить слои)\n",
    "model.add(Dense(10, activation='softmax',)) # выходной слой (на выходе 10 нейронов, 10 классов, softmax -> вероятность)"
   ]
  },
  {
   "cell_type": "code",
   "execution_count": 15,
   "metadata": {
    "colab": {
     "base_uri": "https://localhost:8080/"
    },
    "id": "dumFu1lQHpm_",
    "outputId": "70fff326-e207-4960-f280-97306889af28"
   },
   "outputs": [
    {
     "name": "stdout",
     "output_type": "stream",
     "text": [
      "Model: \"sequential\"\n",
      "_________________________________________________________________\n",
      " Layer (type)                Output Shape              Param #   \n",
      "=================================================================\n",
      " dense (Dense)               (None, 256)               200960    \n",
      "                                                                 \n",
      " dense_1 (Dense)             (None, 128)               32896     \n",
      "                                                                 \n",
      " dense_2 (Dense)             (None, 10)                1290      \n",
      "                                                                 \n",
      "=================================================================\n",
      "Total params: 235,146\n",
      "Trainable params: 235,146\n",
      "Non-trainable params: 0\n",
      "_________________________________________________________________\n"
     ]
    }
   ],
   "source": [
    "model.summary()"
   ]
  },
  {
   "cell_type": "code",
   "execution_count": 17,
   "metadata": {
    "id": "UNi21kLiJCys"
   },
   "outputs": [],
   "source": [
    "model.compile(\n",
    "    loss='categorical_crossentropy',  # минимизируем кросс-энтропию\n",
    "    optimizer='adam',  # так будет быстрее, позже узнаем что это :)\n",
    "    metrics=['accuracy']  # выводим процент правильных ответов\n",
    ")"
   ]
  },
  {
   "cell_type": "code",
   "execution_count": 18,
   "metadata": {
    "colab": {
     "base_uri": "https://localhost:8080/"
    },
    "id": "rsO0ZQFDJFq_",
    "outputId": "b15700ab-875c-45e4-df42-5adcdca8adb4"
   },
   "outputs": [
    {
     "name": "stdout",
     "output_type": "stream",
     "text": [
      "Epoch 1/10\n",
      "938/938 [==============================] - 11s 6ms/step - loss: 0.3033 - accuracy: 0.9081 - val_loss: 0.1657 - val_accuracy: 0.9501\n",
      "Epoch 2/10\n",
      "938/938 [==============================] - 4s 4ms/step - loss: 0.1401 - accuracy: 0.9564 - val_loss: 0.1246 - val_accuracy: 0.9615\n",
      "Epoch 3/10\n",
      "938/938 [==============================] - 3s 4ms/step - loss: 0.1036 - accuracy: 0.9670 - val_loss: 0.1235 - val_accuracy: 0.9606\n",
      "Epoch 4/10\n",
      "938/938 [==============================] - 4s 4ms/step - loss: 0.0856 - accuracy: 0.9731 - val_loss: 0.0771 - val_accuracy: 0.9749\n",
      "Epoch 5/10\n",
      "938/938 [==============================] - 5s 5ms/step - loss: 0.0722 - accuracy: 0.9772 - val_loss: 0.0900 - val_accuracy: 0.9737\n",
      "Epoch 6/10\n",
      "938/938 [==============================] - 4s 4ms/step - loss: 0.0616 - accuracy: 0.9799 - val_loss: 0.0844 - val_accuracy: 0.9754\n",
      "Epoch 7/10\n",
      "938/938 [==============================] - 4s 4ms/step - loss: 0.0539 - accuracy: 0.9829 - val_loss: 0.1091 - val_accuracy: 0.9678\n",
      "Epoch 8/10\n",
      "938/938 [==============================] - 5s 5ms/step - loss: 0.0473 - accuracy: 0.9849 - val_loss: 0.0800 - val_accuracy: 0.9757\n",
      "Epoch 9/10\n",
      "938/938 [==============================] - 4s 5ms/step - loss: 0.0451 - accuracy: 0.9851 - val_loss: 0.0790 - val_accuracy: 0.9767\n",
      "Epoch 10/10\n",
      "938/938 [==============================] - 4s 4ms/step - loss: 0.0396 - accuracy: 0.9868 - val_loss: 0.0865 - val_accuracy: 0.9753\n"
     ]
    }
   ],
   "source": [
    "history = model.fit(\n",
    "                    x_train_float, #ОБУЧАЮЩИЙ ДАТАСЕТ\n",
    "                    y_train_oh, #ТАРГЕТЫ\n",
    "                    batch_size=64,  # 64 объекта для подсчета градиента на каждом шаге (ЧЕМ БОЛЬШЕ, ТЕМ БЫСТРЕЕ, ОГРАНИЧЕНИЕ ПО ОЗУ)\n",
    "                    epochs=10,  # 10 проходов по датасету\n",
    "                    validation_data=(x_val_float, y_val_oh)\n",
    "                    )"
   ]
  },
  {
   "cell_type": "code",
   "execution_count": 19,
   "metadata": {
    "colab": {
     "base_uri": "https://localhost:8080/",
     "height": 487
    },
    "id": "zM4NTDXyQn0A",
    "outputId": "3524d9ef-d9d8-4e70-b393-249d23df89ee"
   },
   "outputs": [
    {
     "data": {
      "image/png": "[encoded data removed]",
      "text/plain": [
       "<Figure size 1000x500 with 1 Axes>"
      ]
     },
     "metadata": {},
     "output_type": "display_data"
    }
   ],
   "source": [
    "# Plot training & validation accuracy values\n",
    "plt.style.use(['dark_background'])\n",
    "fig, ax = plt.subplots(figsize=(10, 5))\n",
    "plt.plot(history.history['accuracy'])\n",
    "plt.plot(history.history['val_accuracy'])\n",
    "plt.title('Model accuracy')\n",
    "plt.ylabel('Accuracy')\n",
    "plt.xlabel('Epoch')\n",
    "plt.legend(['Train', 'Test'], loc='upper left')\n",
    "plt.show()"
   ]
  },
  {
   "cell_type": "code",
   "execution_count": 20,
   "metadata": {
    "colab": {
     "base_uri": "https://localhost:8080/",
     "height": 487
    },
    "id": "uUwz9JG0R-9w",
    "outputId": "9b6baab0-f886-4a8e-9008-53e710dbb270"
   },
   "outputs": [
    {
     "data": {
      "image/png": "[encoded data removed]",
      "text/plain": [
       "<Figure size 1000x500 with 1 Axes>"
      ]
     },
     "metadata": {},
     "output_type": "display_data"
    }
   ],
   "source": [
    "# Plot training & validation loss values\n",
    "plt.style.use(['dark_background'])\n",
    "fig, ax = plt.subplots(figsize=(10, 5))\n",
    "plt.plot(history.history['loss'])\n",
    "plt.plot(history.history['val_loss'])\n",
    "plt.title('Model loss')\n",
    "plt.ylabel('Loss')\n",
    "plt.xlabel('Epoch')\n",
    "plt.legend(['Train', 'Test'], loc='upper left')\n",
    "plt.show()"
   ]
  },
  {
   "cell_type": "code",
   "execution_count": 21,
   "metadata": {
    "colab": {
     "base_uri": "https://localhost:8080/"
    },
    "id": "gpkK_GHOSF2j",
    "outputId": "7552057c-eeb2-4c0e-9e29-b85213f14207"
   },
   "outputs": [
    {
     "name": "stdout",
     "output_type": "stream",
     "text": [
      "313/313 [==============================] - 1s 2ms/step\n"
     ]
    },
    {
     "data": {
      "text/plain": [
       "array([[1.1622213e-08, 4.3917107e-06, 3.0084681e-07, ..., 9.9990070e-01,\n",
       "        1.2193177e-08, 2.7327942e-05],\n",
       "       [9.7764928e-13, 1.9029414e-10, 1.0000000e+00, ..., 8.1665707e-13,\n",
       "        4.5138258e-11, 2.2195635e-21],\n",
       "       [5.1937258e-07, 9.9139470e-01, 3.1399144e-05, ..., 3.6157033e-04,\n",
       "        7.8658117e-03, 5.0579882e-05],\n",
       "       ...,\n",
       "       [6.1166301e-17, 2.2769179e-11, 4.9458214e-19, ..., 8.0083097e-13,\n",
       "        9.6472628e-11, 1.6547752e-09],\n",
       "       [1.6117931e-09, 9.5444007e-11, 6.2410174e-13, ..., 3.6113768e-09,\n",
       "        1.7409484e-05, 6.2450987e-14],\n",
       "       [8.2607116e-08, 3.7458623e-11, 6.4697181e-10, ..., 1.2776587e-15,\n",
       "        5.7927663e-09, 1.1604208e-11]], dtype=float32)"
      ]
     },
     "execution_count": 21,
     "metadata": {},
     "output_type": "execute_result"
    }
   ],
   "source": [
    "model.predict(x_val_float)"
   ]
  },
  {
   "cell_type": "code",
   "execution_count": 22,
   "metadata": {
    "colab": {
     "base_uri": "https://localhost:8080/"
    },
    "id": "WV5Z-2qlJxa2",
    "outputId": "398ae903-53a1-4c27-f8b8-8427cc460ff1"
   },
   "outputs": [
    {
     "name": "stdout",
     "output_type": "stream",
     "text": [
      "313/313 [==============================] - 1s 2ms/step\n"
     ]
    },
    {
     "data": {
      "text/plain": [
       "array([7, 2, 1, ..., 4, 5, 6])"
      ]
     },
     "execution_count": 22,
     "metadata": {},
     "output_type": "execute_result"
    }
   ],
   "source": [
    "# предсказываем классы: определяем номер класса, для которого вероятность принадлежности максимальна\n",
    "np.argmax(model.predict(x_val_float), axis = 1)"
   ]
  },
  {
   "cell_type": "code",
   "execution_count": 23,
   "metadata": {
    "colab": {
     "base_uri": "https://localhost:8080/"
    },
    "id": "j5MI71XhJPCk",
    "outputId": "6dd78b29-af2a-4807-c433-8a9461b26a14"
   },
   "outputs": [
    {
     "name": "stdout",
     "output_type": "stream",
     "text": [
      "313/313 [==============================] - 1s 2ms/step\n",
      "Test Accuracy:  0.9753\n"
     ]
    }
   ],
   "source": [
    "predicts = np.argmax(model.predict(x_val_float), axis = 1)\n",
    "print('Test Accuracy: ', accuracy_score(y_val, predicts))"
   ]
  }
 ],
 "metadata": {
  "accelerator": "GPU",
  "colab": {
   "provenance": []
  },
  "gpuClass": "standard",
  "kernelspec": {
   "display_name": "Python 3",
   "language": "python",
   "name": "python3"
  },
  "language_info": {
   "codemirror_mode": {
    "name": "ipython",
    "version": 3
   },
   "file_extension": ".py",
   "mimetype": "text/x-python",
   "name": "python",
   "nbconvert_exporter": "python",
   "pygments_lexer": "ipython3",
   "version": "3.7.3"
  }
 },
 "nbformat": 4,
 "nbformat_minor": 1
}
